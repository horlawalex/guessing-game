{
 "cells": [
  {
   "cell_type": "code",
   "execution_count": 7,
   "metadata": {},
   "outputs": [
    {
     "name": "stdout",
     "output_type": "stream",
     "text": [
      "Welcome to the Number Guessing Game! \n",
      "I'm thinking of a number between 1 and 100\n",
      "guess a number: 32\n",
      "choose  difficulty: type 'easy' or 'hard' hard\n",
      "you have 5 attempt remaining to guess the number\n",
      "guess a number: 23\n",
      "too low\n",
      "you have 4 attempt remaining to guess the number\n",
      "guess a number: 50\n",
      "too low\n",
      "you have 3 attempt remaining to guess the number\n",
      "guess a number: 80\n",
      "too high\n",
      "you have 2 attempt remaining to guess the number\n",
      "guess a number: 70\n",
      "too high\n",
      "you have 1 attempt remaining to guess the number\n",
      "guess a number: 75\n",
      "too high\n",
      "you are out of guess\n"
     ]
    }
   ],
   "source": [
    "print(\"Welcome to the Number Guessing Game! \")\n",
    "import random\n",
    "answer = random.randint(1, 100)\n",
    "\n",
    "\n",
    "difficulty_easy = 10\n",
    "difficulty_hard = 5\n",
    "turns = 0\n",
    "\n",
    "def guess_number(answer, guess, turns):\n",
    "    if guess > answer:\n",
    "        print(\"too high\")\n",
    "        return turns - 1\n",
    "    elif guess < answer:\n",
    "        print(\"too low\")\n",
    "        return turns - 1\n",
    "    else:\n",
    "        print(f\"you guess correctly, the answer was {answer}\")\n",
    "\n",
    "def set_difficulties():\n",
    "    level = input(\"choose  difficulty: type 'easy' or 'hard' \")\n",
    "    if level == \"easy\":\n",
    "        return difficulty_easy\n",
    "    else:\n",
    "        return difficulty_hard\n",
    " \n",
    "def stop():\n",
    "    print(\"I'm thinking of a number between 1 and 100\")\n",
    "    answer = random.randint(1, 100)\n",
    "    #print(answer)\n",
    "    guess = int(input(\"guess a number: \"))\n",
    "    turns = set_difficulties()   \n",
    "   \n",
    "\n",
    "    while guess != answer:\n",
    "        print(f\"you have {turns} attempt remaining to guess the number\")\n",
    "        guess = int(input(\"guess a number: \"))    \n",
    "        turns = guess_number(answer, guess, turns)  \n",
    "        if turns == 0:\n",
    "            print(\"you are out of guess\")\n",
    "            return\n",
    "        \n",
    "stop()"
   ]
  },
  {
   "cell_type": "code",
   "execution_count": null,
   "metadata": {},
   "outputs": [],
   "source": []
  }
 ],
 "metadata": {
  "kernelspec": {
   "display_name": "Python 3",
   "language": "python",
   "name": "python3"
  },
  "language_info": {
   "codemirror_mode": {
    "name": "ipython",
    "version": 3
   },
   "file_extension": ".py",
   "mimetype": "text/x-python",
   "name": "python",
   "nbconvert_exporter": "python",
   "pygments_lexer": "ipython3",
   "version": "3.7.9"
  }
 },
 "nbformat": 4,
 "nbformat_minor": 4
}
